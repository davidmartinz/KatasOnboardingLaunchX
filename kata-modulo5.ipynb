{
 "cells": [
  {
   "cell_type": "markdown",
   "metadata": {},
   "source": [
    "# Ejercicio 1"
   ]
  },
  {
   "cell_type": "code",
   "execution_count": null,
   "metadata": {},
   "outputs": [],
   "source": [
    "tierra = 149597870\n",
    "jupiter = 778547200\n",
    "\n",
    "print(\"Distancia entre planetas en kilometros: \", jupiter - tierra)\n",
    "print(\"Distancia entre planetas en millas: \", (jupiter - tierra) * .621)"
   ]
  },
  {
   "cell_type": "markdown",
   "metadata": {},
   "source": [
    "# Ejercicio 2"
   ]
  },
  {
   "cell_type": "code",
   "execution_count": null,
   "metadata": {},
   "outputs": [],
   "source": [
    "planeta1 = int(input(\"Distancia del sol del primer planeta: \"))\n",
    "planeta2 = int(input(\"Distancia del sol del segundo planeta: \"))\n",
    "\n",
    "distancia = planeta1 - planeta2\n",
    "\n",
    "print(\"Distancia entre planetas en kms: \", abs(distancia))\n",
    "print(\"Distancia entre planetas en millas: \", abs(distancia * .621))"
   ]
  }
 ],
 "metadata": {
  "language_info": {
   "name": "python"
  },
  "orig_nbformat": 4
 },
 "nbformat": 4,
 "nbformat_minor": 2
}
