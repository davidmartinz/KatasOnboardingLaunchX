{
 "cells": [
  {
   "cell_type": "markdown",
   "metadata": {},
   "source": [
    "# Ejercicio 1, funciones"
   ]
  },
  {
   "cell_type": "code",
   "execution_count": 10,
   "metadata": {},
   "outputs": [
    {
     "name": "stdout",
     "output_type": "stream",
     "text": [
      "Reporte:\n",
      "    Promedio combustible: 56.666666666666664\n",
      "    Tanque 1: 50\n",
      "    Tanque 2: 30\n",
      "    Tanque 3: 90 \n",
      "    \n",
      "El promedio de combustible es: 56.666666666666664\n",
      "\n",
      "Reporte:\n",
      "    Promedio combustible: 60.333333333333336\n",
      "    Tanque 1: 67\n",
      "    Tanque 2: 34\n",
      "    Tanque 3: 80 \n",
      "    \n"
     ]
    }
   ],
   "source": [
    "def reportegas(tanque_1, tanque_2, tanque_3):\n",
    "    promedio = (tanque_1 + tanque_2 + tanque_3) / 3\n",
    "    return f\"\"\"Reporte:\n",
    "    Promedio combustible: {promedio}\n",
    "    Tanque 1: {tanque_1}\n",
    "    Tanque 2: {tanque_2}\n",
    "    Tanque 3: {tanque_3} \n",
    "    \"\"\"\n",
    "\n",
    "print(reportegas(50, 30, 90))\n",
    "\n",
    "def promedio(datos):\n",
    "    total = sum(datos)\n",
    "    cont = len(datos)\n",
    "    return total / cont\n",
    "\n",
    "prom = promedio([50, 30, 90]) \n",
    "\n",
    "print(f'El promedio de combustible es: {prom}\\n')\n",
    "\n",
    "def reportegas(tanque_1, tanque_2, tanque_3):\n",
    "    prom = promedio([tanque_1, tanque_2, tanque_3])\n",
    "    return f\"\"\"Reporte:\n",
    "    Promedio combustible: {prom}\n",
    "    Tanque 1: {tanque_1}\n",
    "    Tanque 2: {tanque_2}\n",
    "    Tanque 3: {tanque_3} \n",
    "    \"\"\"\n",
    "\n",
    "print(reportegas(67, 34, 80))"
   ]
  },
  {
   "cell_type": "markdown",
   "metadata": {},
   "source": [
    "# Ejercicio 2, argumentos de palabras clave"
   ]
  },
  {
   "cell_type": "code",
   "execution_count": 7,
   "metadata": {},
   "outputs": [
    {
     "name": "stdout",
     "output_type": "stream",
     "text": [
      "\n",
      "    Mision a: Marte\n",
      "    Tiempo de viaje: 65 minutos\n",
      "    Combustible restante: 80000\n",
      "    \n",
      "\n",
      "    Mision a: Marte\n",
      "    Tiempo de viaje: 80 minutos\n",
      "    Combustible restante: 65000\n",
      "    \n",
      "\n",
      "    Mision a: Marte\n",
      "    Tiempo de viaje: 80 minutos\n",
      "    Combustible restante: 90000\n",
      "    Tanque principal: 60000 litros\n",
      "    Tanque externo: 30000 litros\n",
      "    \n"
     ]
    }
   ],
   "source": [
    "def reporte(hora_prelanzamiento, tiempo_vuelo, destino, tanque_externo, tanque_interno):\n",
    "    return f\"\"\"\n",
    "    Mision a: {destino}\n",
    "    Tiempo de viaje: {hora_prelanzamiento + tiempo_vuelo} minutos\n",
    "    Combustible restante: {tanque_externo + tanque_interno}\n",
    "    \"\"\"\n",
    "\n",
    "print(reporte(14, 51, \"Marte\", 30000, 50000))\n",
    "\n",
    "\n",
    "def reporte(destino, *minutos, **reserva_combustible):\n",
    "    return f\"\"\"\n",
    "    Mision a: {destino}\n",
    "    Tiempo de viaje: {sum(minutos)} minutos\n",
    "    Combustible restante: {sum(reserva_combustible.values())}\n",
    "    \"\"\"\n",
    "\n",
    "print(reporte(\"Marte\", 5, 35, 40, principal=50000, externo=15000))\n",
    "\n",
    "\n",
    "def reporte(destino, *minutos, **reserva_combustible):\n",
    "    reporte = f\"\"\"\n",
    "    Mision a: {destino}\n",
    "    Tiempo de viaje: {sum(minutos)} minutos\n",
    "    Combustible restante: {sum(reserva_combustible.values())}\n",
    "    \"\"\"\n",
    "    for tanque, litros in reserva_combustible.items():\n",
    "        reporte += f\"Tanque {tanque}: {litros} litros\\n    \"\n",
    "    return reporte\n",
    "\n",
    "print(reporte(\"Marte\", 10, 15, 55, principal=60000, externo=30000))"
   ]
  }
 ],
 "metadata": {
  "interpreter": {
   "hash": "b609c7b4c75a045aebe1253cca1961aeae8713bd74d4c3e5d1343b5f2aa66b91"
  },
  "kernelspec": {
   "display_name": "Python 3.8.10 64-bit",
   "language": "python",
   "name": "python3"
  },
  "language_info": {
   "codemirror_mode": {
    "name": "ipython",
    "version": 3
   },
   "file_extension": ".py",
   "mimetype": "text/x-python",
   "name": "python",
   "nbconvert_exporter": "python",
   "pygments_lexer": "ipython3",
   "version": "3.8.10"
  },
  "orig_nbformat": 4
 },
 "nbformat": 4,
 "nbformat_minor": 2
}
