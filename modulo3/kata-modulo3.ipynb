{
 "cells": [
  {
   "cell_type": "markdown",
   "metadata": {},
   "source": [
    "# Escribir advertencia"
   ]
  },
  {
   "cell_type": "code",
   "execution_count": 6,
   "metadata": {},
   "outputs": [
    {
     "name": "stdout",
     "output_type": "stream",
     "text": [
      "Peligro, un asteroide se acerca a 49 Km/s.\n"
     ]
    }
   ],
   "source": [
    "velocidadasteroide = 49\n",
    "if velocidadasteroide >= 25:\n",
    "    print(\"Peligro, un asteroide se acerca a \" + str(velocidadasteroide) + \" Km/s.\")"
   ]
  }
 ],
 "metadata": {
  "interpreter": {
   "hash": "b609c7b4c75a045aebe1253cca1961aeae8713bd74d4c3e5d1343b5f2aa66b91"
  },
  "kernelspec": {
   "display_name": "Python 3.8.10 64-bit",
   "language": "python",
   "name": "python3"
  },
  "language_info": {
   "codemirror_mode": {
    "name": "ipython",
    "version": 3
   },
   "file_extension": ".py",
   "mimetype": "text/x-python",
   "name": "python",
   "nbconvert_exporter": "python",
   "pygments_lexer": "ipython3",
   "version": "3.8.10"
  },
  "orig_nbformat": 4
 },
 "nbformat": 4,
 "nbformat_minor": 2
}
