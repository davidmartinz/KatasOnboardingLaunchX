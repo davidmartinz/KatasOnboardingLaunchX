{
 "cells": [
  {
   "cell_type": "markdown",
   "metadata": {},
   "source": [
    "# Ejercicio 1 listas de Python"
   ]
  },
  {
   "cell_type": "code",
   "execution_count": 7,
   "metadata": {},
   "outputs": [
    {
     "name": "stdout",
     "output_type": "stream",
     "text": [
      "Hay 9 planetas en el Sistema Solar.\n"
     ]
    }
   ],
   "source": [
    "planetas = ['Mercurio', 'Venus', 'Tierra', 'Marte', 'Jupiter', 'Saturno', 'Urano', 'Neptuno', 'Pluton']\n",
    "numero_de_planetas = len(planetas)\n",
    "\n",
    "print(\"Hay\", numero_de_planetas, \"planetas en el Sistema Solar.\")"
   ]
  },
  {
   "cell_type": "markdown",
   "metadata": {},
   "source": [
    "# Ejercicio 2 Datos de una lista"
   ]
  },
  {
   "cell_type": "code",
   "execution_count": 8,
   "metadata": {},
   "outputs": [
    {
     "name": "stdout",
     "output_type": "stream",
     "text": [
      "Los planetas que son más cercanos al Sol que Venus son:\n",
      "['Mercurio']\n",
      "Y los más alejados del Sol que Venus son:\n",
      "['Tierra', 'Marte', 'Jupiter', 'Saturno', 'Urano', 'Neptuno', 'Pluton']\n"
     ]
    }
   ],
   "source": [
    "planetas = ['Mercurio', 'Venus', 'Tierra', 'Marte', 'Jupiter', 'Saturno', 'Urano', 'Neptuno', 'Pluton']\n",
    "\n",
    "index = input(\"Captura el nombre de un planeta (primera letra mayúscula): \")\n",
    "index_user = planetas.index(index)\n",
    "\n",
    "print(\"Los planetas que son más cercanos al Sol que \" + index, \"son:\")\n",
    "print(planetas[0:index_user])\n",
    "\n",
    "print(\"Y los más alejados del Sol que \" + index, \"son:\")\n",
    "print(planetas[index_user + 1:])"
   ]
  }
 ],
 "metadata": {
  "interpreter": {
   "hash": "b609c7b4c75a045aebe1253cca1961aeae8713bd74d4c3e5d1343b5f2aa66b91"
  },
  "kernelspec": {
   "display_name": "Python 3.8.10 64-bit",
   "language": "python",
   "name": "python3"
  },
  "language_info": {
   "codemirror_mode": {
    "name": "ipython",
    "version": 3
   },
   "file_extension": ".py",
   "mimetype": "text/x-python",
   "name": "python",
   "nbconvert_exporter": "python",
   "pygments_lexer": "ipython3",
   "version": "3.8.10"
  },
  "orig_nbformat": 4
 },
 "nbformat": 4,
 "nbformat_minor": 2
}
